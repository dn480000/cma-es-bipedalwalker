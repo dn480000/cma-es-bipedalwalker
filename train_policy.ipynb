{
 "cells": [
  {
   "cell_type": "markdown",
   "metadata": {},
   "source": [
    "We apply the CMA-ES algorithm to train a recurrent neural network (RNN) to maximize the reward in the [BipedalWalker](https://www.gymlibrary.ml/environments/box2d/bipedal_walker/) environment. In the environment, a robot walks to the right of the terrain and earns a higher reward if it avoids falling and applies force efficiently. The robot is controlled by an RNN that chooses the actions taken by the robot based on its observations.\n",
    "\n",
    "The [CMA-ES](https://en.wikipedia.org/wiki/CMA-ES) algorithm is an evolutionary algorithm used to learn the weights of the RNN. As first, the algorithm generates random weights for the RNN with a multivariate normal distribution. It updates the mean of the distribution to be closer to the random policies that perform better. The CMA-ES also adapts the covariance matrix to control the width of the search to avoid being trapped in local minima. The CMA-ES gradually learns to sample weights closer and closer to the global minimum of the cost function. The CMA-ES also avoids calculating the derivative, which is required in backpropagation, the most common method of training neural networks."
   ]
  },
  {
   "cell_type": "code",
   "execution_count": 1,
   "metadata": {},
   "outputs": [],
   "source": [
    "import gym\n",
    "import numpy as np\n",
    "import matplotlib.pyplot as plt\n",
    "from matplotlib.ticker import FormatStrFormatter\n",
    "from joblib import Parallel, delayed\n",
    "import pickle\n",
    "from datetime import datetime\n",
    "\n",
    "from cmaes import CmaEs\n",
    "from nn import NN, get_weights_size"
   ]
  },
  {
   "cell_type": "code",
   "execution_count": 2,
   "metadata": {},
   "outputs": [],
   "source": [
    "%matplotlib inline"
   ]
  },
  {
   "cell_type": "code",
   "execution_count": 3,
   "metadata": {},
   "outputs": [],
   "source": [
    "def rollout(policy, repeat_n=1, render=False):\n",
    "    env = gym.make(\"BipedalWalker-v3\")\n",
    "    total_reward = 0\n",
    "    for _ in range(repeat_n):\n",
    "        predicted = np.zeros(policy.layer_sizes[-1])\n",
    "        obs = env.reset()\n",
    "        done = False\n",
    "        while not done:\n",
    "            predicted = policy.predict(np.concatenate((obs, predicted[4:])))\n",
    "            obs, reward, done, _ = env.step(predicted[:4])\n",
    "            total_reward += reward\n",
    "            if render:\n",
    "                env.render()\n",
    "    return total_reward / repeat_n"
   ]
  },
  {
   "cell_type": "code",
   "execution_count": 4,
   "metadata": {},
   "outputs": [],
   "source": [
    "def make_weighted_nn(layer_sizes, flatten_weights):\n",
    "    nn = NN(layer_sizes=layer_sizes)\n",
    "    nn.set_flatten_weights(flatten_weights)\n",
    "    return nn"
   ]
  },
  {
   "cell_type": "code",
   "execution_count": 5,
   "metadata": {},
   "outputs": [],
   "source": [
    "def save_cma(path, cma):\n",
    "    with open(path, 'wb') as outp:\n",
    "        pickle.dump(cma, outp, pickle.HIGHEST_PROTOCOL)\n",
    "\n",
    "def read_cma(path):\n",
    "    with open(path, 'rb') as inp:\n",
    "        return pickle.load(inp)"
   ]
  },
  {
   "cell_type": "markdown",
   "metadata": {},
   "source": [
    "As we use a RNN policy, the observation and the action are number arrays of size 24 and 4 resepectively.  the input and output of the neural network have 6 more units, which serve as the recurrent connections."
   ]
  },
  {
   "cell_type": "code",
   "execution_count": 6,
   "metadata": {},
   "outputs": [],
   "source": [
    "parallel_worker = 4\n",
    "layer_sizes = [30, 30, 20, 10]\n",
    "weights_size = get_weights_size(layer_sizes)\n",
    "population_size = 128\n",
    "mu = 32  # Selected population size\n",
    "cma_path = None\n",
    "best_policy_path = None\n",
    "best_policy = None if best_policy_path is None \\\n",
    "    else np.load(best_policy_path)\n",
    "best_score = -100000 if best_policy_path is None \\\n",
    "    else rollout(make_weighted_nn(layer_sizes, best_policy), 10)\n",
    "repeat_n = 10"
   ]
  },
  {
   "cell_type": "code",
   "execution_count": 7,
   "metadata": {},
   "outputs": [],
   "source": [
    "cma = CmaEs(np.zeros(weights_size), 0.1 * np.identity(weights_size), population_size, mu) \\\n",
    "  if cma_path is None \\\n",
    "    else read_cma(cma_path)\n",
    "score_record = []\n",
    "step_size_record = []\n",
    "cond_num_record = []\n",
    "score_above_300 = False"
   ]
  },
  {
   "cell_type": "markdown",
   "metadata": {},
   "source": [
    "The CMA-ES runs until it finds a policy that achieve a reward over 305."
   ]
  },
  {
   "cell_type": "code",
   "execution_count": 8,
   "metadata": {},
   "outputs": [],
   "source": [
    "max_epoch = 1\n",
    "for i in range(max_epoch):\n",
    "    population = cma.sample()\n",
    "    scores = Parallel(n_jobs=parallel_worker)(\n",
    "        delayed(rollout)(\n",
    "            make_weighted_nn(layer_sizes, population[i]),  \n",
    "            repeat_n\n",
    "        ) for i in range(cma.population_size)\n",
    "    )\n",
    "    scores = np.array(scores)\n",
    "    score_record.append(scores)\n",
    "    max_id = np.argmax(scores)\n",
    "    if scores[max_id] > best_score:\n",
    "        best_policy = population[max_id]\n",
    "        best_score = scores[max_id]\n",
    "    cma.update(population, -scores) # CMA performs minimization\n",
    "    step_size_record.append(cma.step_size)\n",
    "    cond_num_record.append(np.linalg.cond(cma.cov))\n",
    "    if i and i % 100:\n",
    "        save_cma(f'fixtures/normal/cma/{datetime.now().strftime(\"%Y%m%d%H%M%S\")}.pkl', cma)\n",
    "        np.save(f'fixtures/normal/policy/{datetime.now().strftime(\"%Y%m%d%H%M%S\")}', best_policy)\n",
    "    if best_score > 305 and score_above_300:\n",
    "        break"
   ]
  },
  {
   "cell_type": "code",
   "execution_count": 9,
   "metadata": {},
   "outputs": [
    {
     "data": {
      "image/png": "[encoded data removed]",
      "text/plain": [
       "<Figure size 648x288 with 1 Axes>"
      ]
     },
     "metadata": {
      "needs_background": "light"
     },
     "output_type": "display_data"
    }
   ],
   "source": [
    "fig, ax = plt.subplots(1, 1, figsize=(9, 4))\n",
    "ax.plot(score_record , '.', color='black', alpha=0.1);\n",
    "ax.plot([np.percentile(a, 75) for a in score_record], '--', color='navy', label='75%');\n",
    "ax.plot([np.percentile(a, 50) for a in score_record], '--', color='royalblue', label='median')\n",
    "ax.plot([np.percentile(a, 25) for a in score_record], '--', color='aqua', label='25%');\n",
    "ax.legend(loc='lower left')\n",
    "ax.set(ylabel='score', xlabel='epoch', title='Population scores');"
   ]
  },
  {
   "cell_type": "code",
   "execution_count": 10,
   "metadata": {},
   "outputs": [
    {
     "name": "stdout",
     "output_type": "stream",
     "text": [
      "Best score is -14.65\n"
     ]
    }
   ],
   "source": [
    "print(f'Best score is {best_score:.2f}')\n"
   ]
  },
  {
   "cell_type": "markdown",
   "metadata": {},
   "source": [
    "We can check the covergence status of the CMA-ES algorithm by chceking te condition number of the covariance matrix, and step size of the algorithm."
   ]
  },
  {
   "cell_type": "code",
   "execution_count": 11,
   "metadata": {},
   "outputs": [
    {
     "data": {
      "image/png": "[encoded data removed]",
      "text/plain": [
       "<Figure size 648x288 with 2 Axes>"
      ]
     },
     "metadata": {
      "needs_background": "light"
     },
     "output_type": "display_data"
    }
   ],
   "source": [
    "fig, ax = plt.subplots(1, 2, figsize=(9, 4))\n",
    "ax[0].plot(cond_num_record)\n",
    "ax[1].plot(step_size_record)\n",
    "ax[0].set(title='Cov matrix condition number', xlabel='epoch')\n",
    "ax[1].set(title='Step size', xlabel='epoch')\n",
    "ax[0].set(title='Cov matrix condition number', xlabel='epoch')\n",
    "ax[0].yaxis.set_major_formatter(FormatStrFormatter('%.2f'))\n",
    "ax[1].yaxis.set_major_formatter(FormatStrFormatter('%.2f'));"
   ]
  },
  {
   "cell_type": "code",
   "execution_count": null,
   "metadata": {},
   "outputs": [],
   "source": [
    "save_cma(f'fixtures/normal/cma/{datetime.now().strftime(\"%Y%m%d%H%M%S\")}.pkl', cma)\n",
    "save_cma('fixtures/normal/cma/final.pkl', cma)"
   ]
  },
  {
   "cell_type": "code",
   "execution_count": null,
   "metadata": {},
   "outputs": [],
   "source": [
    "np.save(f'fixtures/normal/policy/{datetime.now().strftime(\"%Y%m%d%H%M%S\")}', best_policy)\n",
    "np.save(f'fixtures/normal/policy/final}', best_policy)"
   ]
  }
 ],
 "metadata": {
  "kernelspec": {
   "display_name": "Python 3.6.13 ('cma-es-bipedalwalker')",
   "language": "python",
   "name": "python3"
  },
  "language_info": {
   "codemirror_mode": {
    "name": "ipython",
    "version": 3
   },
   "file_extension": ".py",
   "mimetype": "text/x-python",
   "name": "python",
   "nbconvert_exporter": "python",
   "pygments_lexer": "ipython3",
   "version": "3.6.13"
  },
  "orig_nbformat": 4,
  "vscode": {
   "interpreter": {
    "hash": "e0e7a94291e20e9f47365002f2bc9c280b64a8eab921db0c4975fc685821488f"
   }
  }
 },
 "nbformat": 4,
 "nbformat_minor": 2
}
