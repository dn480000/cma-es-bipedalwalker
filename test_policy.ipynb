{
 "cells": [
  {
   "cell_type": "markdown",
   "metadata": {},
   "source": [
    "The notebook demonstrates how the trained policy perform in the [BipedalWalker](https://www.gymlibrary.ml/environments/box2d/bipedal_walker/) environment. It achieves an average reward of over 300 in 100 repeated rollouts."
   ]
  },
  {
   "cell_type": "code",
   "execution_count": 1,
   "metadata": {},
   "outputs": [],
   "source": [
    "import gym\n",
    "import numpy as np\n",
    "import matplotlib.pyplot as plt\n",
    "\n",
    "from nn import NN"
   ]
  },
  {
   "cell_type": "code",
   "execution_count": 2,
   "metadata": {},
   "outputs": [],
   "source": [
    "%matplotlib inline"
   ]
  },
  {
   "cell_type": "code",
   "execution_count": 3,
   "metadata": {},
   "outputs": [],
   "source": [
    "def rollout_rewards(policy, repeat_n=1, render=False):\n",
    "    env = gym.make(\"BipedalWalker-v3\")\n",
    "    results = np.zeros(repeat_n)\n",
    "    for i in range(repeat_n):\n",
    "        predicted = np.zeros(policy.layer_sizes[-1])\n",
    "        obs = env.reset()\n",
    "        done = False\n",
    "        while not done:\n",
    "            predicted = policy.predict(np.concatenate((obs, predicted[4:])))\n",
    "            obs, reward, done, _ = env.step(predicted[:4])\n",
    "            results[i] += reward\n",
    "            if render:\n",
    "                env.render()\n",
    "    return results"
   ]
  },
  {
   "cell_type": "code",
   "execution_count": 4,
   "metadata": {},
   "outputs": [],
   "source": [
    "def make_weighted_nn(layer_sizes, flatten_weights):\n",
    "    nn = NN(layer_sizes=layer_sizes)\n",
    "    nn.set_flatten_weights(flatten_weights)\n",
    "    return nn"
   ]
  },
  {
   "cell_type": "code",
   "execution_count": 5,
   "metadata": {},
   "outputs": [],
   "source": [
    "parallel_worker = 4\n",
    "layer_sizes = [30, 30, 20, 10]\n",
    "best_policy_path = 'fixtures/normal/policy/final.npy'\n",
    "best_policy = np.load(best_policy_path)"
   ]
  },
  {
   "cell_type": "code",
   "execution_count": 6,
   "metadata": {},
   "outputs": [
    {
     "name": "stderr",
     "output_type": "stream",
     "text": [
      "c:\\Users\\USER\\Anaconda3\\envs\\cma-es-bipedalwalker\\lib\\site-packages\\gym\\utils\\passive_env_checker.py:98: UserWarning: \u001b[33mWARN: We recommend you to use a symmetric and normalized Box action space (range=[-1, 1]) https://stable-baselines3.readthedocs.io/en/master/guide/rl_tips.html\u001b[0m\n",
      "  \"We recommend you to use a symmetric and normalized Box action space (range=[-1, 1]) \"\n"
     ]
    }
   ],
   "source": [
    "results = rollout_rewards(make_weighted_nn(layer_sizes, best_policy), 100)"
   ]
  },
  {
   "cell_type": "code",
   "execution_count": 7,
   "metadata": {},
   "outputs": [
    {
     "name": "stdout",
     "output_type": "stream",
     "text": [
      "Mean score 310.11, standard deviation 1.44\n"
     ]
    }
   ],
   "source": [
    "print(f'Mean score {np.mean(results):.2f}, standard deviation {np.std(results):.2f}')"
   ]
  },
  {
   "cell_type": "code",
   "execution_count": 8,
   "metadata": {},
   "outputs": [],
   "source": [
    "# Render rollout\n",
    "rollout_rewards(make_weighted_nn(layer_sizes, best_policy), 1, True);"
   ]
  }
 ],
 "metadata": {
  "kernelspec": {
   "display_name": "Python 3.6.13 ('cma-es-bipedalwalker')",
   "language": "python",
   "name": "python3"
  },
  "language_info": {
   "codemirror_mode": {
    "name": "ipython",
    "version": 3
   },
   "file_extension": ".py",
   "mimetype": "text/x-python",
   "name": "python",
   "nbconvert_exporter": "python",
   "pygments_lexer": "ipython3",
   "version": "3.6.13"
  },
  "orig_nbformat": 4,
  "vscode": {
   "interpreter": {
    "hash": "e0e7a94291e20e9f47365002f2bc9c280b64a8eab921db0c4975fc685821488f"
   }
  }
 },
 "nbformat": 4,
 "nbformat_minor": 2
}
